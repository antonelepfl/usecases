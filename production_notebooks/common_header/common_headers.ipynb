{
 "cells": [
  {
   "cell_type": "markdown",
   "metadata": {},
   "source": [
    "## Using this notebook\n",
    " \n",
    "- You have to execute this notebook by running each cell consecutively.\n",
    "- To retain any changes made, you need to save the notebook. \n",
    "\n",
    "For detailed information about the notebook interface see _Help -> User Interface Tour_ in the menu, and the [Guidebook](https://lbologna.github.io/hbp-sp6-guidebook/getting_started/getting_started.html#working-with-collabs) for working with Collabs."
   ]
  },
  {
   "cell_type": "code",
   "execution_count": 1,
   "metadata": {},
   "outputs": [],
   "source": [
    "!pip install -q -i https://bbpteam.epfl.ch/repository/devpi/simple notebook-version-check\n",
    "notebook_id = 'NOTEBOOK_ID'\n",
    "notebook_url = 'NOTEBOOK_URL'\n",
    "from notebookchecklib.nbversioncheck import NBVersionCheck\n",
    "check = NBVersionCheck(notebook_id, notebook_url, get_hbp_service_client(), get_collab_storage_path())\n",  
    "check.check()"
   ]
  }
 ],
 "metadata": {
  "kernelspec": {
   "display_name": "Python 3",
   "language": "python",
   "name": "python3"
  },
  "language_info": {
   "codemirror_mode": {
    "name": "ipython",
    "version": 3
   },
   "file_extension": ".py",
   "mimetype": "text/x-python",
   "name": "python",
   "nbconvert_exporter": "python",
   "pygments_lexer": "ipython3",
   "version": "3.6.7"
  }
 },
 "nbformat": 4,
 "nbformat_minor": 2
}
